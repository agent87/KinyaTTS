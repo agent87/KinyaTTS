{
  "cells": [
    {
      "cell_type": "markdown",
      "source": [
        "#**- MB-iSTFT-VITS2 training**"
      ],
      "metadata": {
        "id": "ZIY84Fp9R-5Q"
      }
    },
    {
      "cell_type": "code",
      "source": [
        "!nvidia-smi"
      ],
      "metadata": {
        "id": "fs60Iz5KFRJY"
      },
      "execution_count": null,
      "outputs": []
    },
    {
      "cell_type": "code",
      "source": [
        "!pip install torch==1.13.1+cu117 torchvision==0.14.1+cu117 torchaudio==0.13.1 --extra-index-url https://download.pytorch.org/whl/cu117"
      ],
      "metadata": {
        "id": "KzmgnyrNuLGp"
      },
      "execution_count": null,
      "outputs": []
    },
    {
      "cell_type": "code",
      "source": [
        "#*** Assuming you have everything(the repo, datasets, etc.) on google drive\n",
        "from google.colab import drive\n",
        "drive.mount('/content/drive')\n",
        "!cp -r /content/drive/MyDrive/MB-iSTFT-VITS2/ /content/MB-iSTFT-VITS2/\n",
        "%cd MB-iSTFT-VITS2"
      ],
      "metadata": {
        "id": "pTf8CC_5R-SF"
      },
      "execution_count": null,
      "outputs": []
    },
    {
      "cell_type": "code",
      "source": [
        "!pip install Cython==0.29.21\n",
        "!pip install librosa==0.8.0\n",
        "!pip install phonemizer==3.2.1\n",
        "#!pip install tensorboard==2.3.0\n",
        "!pip install Unidecode==1.1.1\n",
        "!pip install pysoundfile==0.9.0.post1\n",
        "#!pip install pyopenjtalk\n",
        "!pip install pyopenjtalk==0.2.0 --no-build-isolation\n",
        "!pip install numpy==1.23.5\n",
        "#!pip install numpy==1.19.5\n",
        "#!pip install numba==0.56.4\n",
        "!pip install scipy==1.10.1\n",
        "!pip install matplotlib==3.6.0\n",
        "!pip install tensorboardX\n",
        "!pip install tqdm~=4.66.1\n",
        "!pip install packaging~=23.1\n",
        "!pip install langdetect==1.0.9\n",
        "!pip install inflect==6.0.2\n",
        "!pip install pydantic==1.10.12\n",
        "!pip install eng-to-ipa==0.0.2\n",
        "!pip install cn2an==0.5.17\n",
        "!pip install jamo==0.4.1\n",
        "!pip install ko-pron==1.3\n",
        "!pip install g2pk2==0.0.1\n",
        "!pip install pypinyin==0.44.0\n",
        "!pip install jieba==0.42.1"
      ],
      "metadata": {
        "id": "JD1T0XwNqXFz"
      },
      "execution_count": null,
      "outputs": []
    },
    {
      "cell_type": "code",
      "source": [
        "# Cython-version Monotonoic Alignment Search\n",
        "%cd monotonic_align\n",
        "!mkdir monotonic_align\n",
        "!python setup.py build_ext --inplace\n",
        "%cd ..\n",
        "!ls"
      ],
      "metadata": {
        "id": "3fsEOHL3sWK2"
      },
      "execution_count": null,
      "outputs": []
    },
    {
      "cell_type": "code",
      "source": [
        "tensorboard_on = True  #@param {type:\"boolean\"}\n",
        "\n",
        "if tensorboard_on:\n",
        "  %load_ext tensorboard\n",
        "  %tensorboard --logdir /content/drive/MyDrive/savedmodel/test"
      ],
      "metadata": {
        "id": "Si5l0miGS7JV"
      },
      "execution_count": null,
      "outputs": []
    },
    {
      "cell_type": "code",
      "source": [
        "# replace configs/mini_mb_istft_vits2_experimental.json to your own json\n",
        "!python train.py -c configs/mini_mb_istft_vits2_base.json -m /content/drive/MyDrive/savedmodel/test"
      ],
      "metadata": {
        "id": "zlN6D1qLSl54"
      },
      "execution_count": null,
      "outputs": []
    }
  ],
  "metadata": {
    "accelerator": "GPU",
    "colab": {
      "toc_visible": true,
      "provenance": [],
      "gpuClass": "premium"
    },
    "gpuClass": "premium",
    "kernelspec": {
      "display_name": "Python 3",
      "name": "python3"
    },
    "language_info": {
      "name": "python"
    }
  },
  "nbformat": 4,
  "nbformat_minor": 0
}